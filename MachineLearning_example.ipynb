{
  "nbformat": 4,
  "nbformat_minor": 0,
  "metadata": {
    "colab": {
      "provenance": [],
      "authorship_tag": "ABX9TyOarnr8NqbAconKFqSWv5gu",
      "include_colab_link": true
    },
    "kernelspec": {
      "name": "python3",
      "display_name": "Python 3"
    },
    "language_info": {
      "name": "python"
    }
  },
  "cells": [
    {
      "cell_type": "markdown",
      "metadata": {
        "id": "view-in-github",
        "colab_type": "text"
      },
      "source": [
        "<a href=\"https://colab.research.google.com/github/fajni/google-colab-machine-learning/blob/main/MachineLearning_example.ipynb\" target=\"_parent\"><img src=\"https://colab.research.google.com/assets/colab-badge.svg\" alt=\"Open In Colab\"/></a>"
      ]
    },
    {
      "cell_type": "code",
      "source": [],
      "metadata": {
        "id": "nRMBmCI4XU1v"
      },
      "execution_count": null,
      "outputs": []
    },
    {
      "cell_type": "code",
      "execution_count": null,
      "metadata": {
        "id": "fgE6licFXFec"
      },
      "outputs": [],
      "source": [
        "import numpy as np\n",
        "import pandas as pd\n",
        "import matplotlib.pyplot as plt"
      ]
    },
    {
      "cell_type": "markdown",
      "source": [
        "# Dataset"
      ],
      "metadata": {
        "id": "-gq7HpF3X0XI"
      }
    },
    {
      "cell_type": "code",
      "source": [
        "# excel = pd.read_excel('salaries.xlsx')\n",
        "\n",
        "# df //Data Frame\n",
        "df = pd.read_csv('./drive/MyDrive/Data/salaries.csv')\n",
        "\n",
        "print(df.head())\n",
        "\n",
        "print('\\n============\\n')\n",
        "\n",
        "print(df[\"company_size\"].unique())"
      ],
      "metadata": {
        "colab": {
          "base_uri": "https://localhost:8080/"
        },
        "id": "egluY0oeXfLP",
        "outputId": "a7babd0e-52ff-4669-fcac-416d4ad652a1"
      },
      "execution_count": 3,
      "outputs": [
        {
          "output_type": "stream",
          "name": "stdout",
          "text": [
            "   work_year experience_level employment_type             job_title  salary  \\\n",
            "0       2024               MI              FT        Data Scientist  120000   \n",
            "1       2024               MI              FT        Data Scientist   70000   \n",
            "2       2024               MI              CT        Data Scientist  130000   \n",
            "3       2024               MI              CT        Data Scientist  110000   \n",
            "4       2024               MI              FT  Data Science Manager  240000   \n",
            "\n",
            "  salary_currency  salary_in_usd employee_residence  remote_ratio  \\\n",
            "0             USD         120000                 AU             0   \n",
            "1             USD          70000                 AU             0   \n",
            "2             USD         130000                 US             0   \n",
            "3             USD         110000                 US             0   \n",
            "4             USD         240000                 US             0   \n",
            "\n",
            "  company_location company_size  \n",
            "0               AU            S  \n",
            "1               AU            S  \n",
            "2               US            M  \n",
            "3               US            M  \n",
            "4               US            M  \n",
            "\n",
            "============\n",
            "\n",
            "['S' 'M' 'L']\n"
          ]
        }
      ]
    }
  ]
}